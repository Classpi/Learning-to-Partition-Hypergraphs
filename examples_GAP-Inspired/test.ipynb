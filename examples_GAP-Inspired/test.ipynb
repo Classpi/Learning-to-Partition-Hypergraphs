{
 "cells": [
  {
   "cell_type": "code",
   "execution_count": null,
   "metadata": {},
   "outputs": [],
   "source": [
    "import torch\n",
    "\n",
    "H = torch.tensor([[0.,1],\n",
    "                  [1,0],\n",
    "                  [0,1],\n",
    "                  [1,0],\n",
    "                  [0,1],\n",
    "                  [1,1]])"
   ]
  },
  {
   "cell_type": "code",
   "execution_count": null,
   "metadata": {},
   "outputs": [],
   "source": [
    "\n",
    "X = torch.tensor([[0.8,0.1,0.1],\n",
    "                  [0,0.9,0.1],\n",
    "                  [0.7,0.2,0.1],\n",
    "                  [0.4,0.5,0.1],\n",
    "                  [0.5,0.2,0.3],\n",
    "                  [0.8,0,0.2]])\n",
    "Y = 1 - X.transpose(0,1)\n",
    "Y"
   ]
  },
  {
   "cell_type": "code",
   "execution_count": null,
   "metadata": {},
   "outputs": [],
   "source": [
    "F = X.matmul(Y)"
   ]
  },
  {
   "cell_type": "code",
   "execution_count": null,
   "metadata": {},
   "outputs": [],
   "source": [
    "F = F.matmul(H)\n",
    "F"
   ]
  },
  {
   "cell_type": "code",
   "execution_count": null,
   "metadata": {},
   "outputs": [],
   "source": [
    "F = F.mul(H)\n",
    "F"
   ]
  },
  {
   "cell_type": "code",
   "execution_count": null,
   "metadata": {},
   "outputs": [],
   "source": [
    "import torch \n",
    "a = torch.tensor([[1,0],[2,0],[0.04,0.]])\n",
    "a.sqrt()\n",
    "a = list(a)\n",
    "\n",
    "\n"
   ]
  },
  {
   "cell_type": "code",
   "execution_count": 12,
   "metadata": {},
   "outputs": [
    {
     "data": {
      "text/plain": [
       "tensor([0, 0, 0])"
      ]
     },
     "execution_count": 12,
     "metadata": {},
     "output_type": "execute_result"
    }
   ],
   "source": [
    "import torch \n",
    "a = torch.tensor([[1,0],[2,0],[0.04,0.]])\n",
    "\n",
    "# a = torch.softmax(a, dim=0)\n",
    "\n",
    "# a = torch.prod(a, dim=0)\n",
    "a.argmax(dim=-1)"
   ]
  },
  {
   "cell_type": "code",
   "execution_count": 1,
   "metadata": {},
   "outputs": [
    {
     "name": "stderr",
     "output_type": "stream",
     "text": [
      "/home/ycq/work/graph-partition-with-gcn/.env-HGP/lib/python3.10/site-packages/tqdm/auto.py:21: TqdmWarning: IProgress not found. Please update jupyter and ipywidgets. See https://ipywidgets.readthedocs.io/en/stable/user_install.html\n",
      "  from .autonotebook import tqdm as notebook_tqdm\n"
     ]
    },
    {
     "data": {
      "text/plain": [
       "tensor(5)"
      ]
     },
     "execution_count": 1,
     "metadata": {},
     "output_type": "execute_result"
    }
   ],
   "source": [
    "import torch \n",
    "a = torch.tensor([1,2,5,6,7,11,0.])\n",
    "a.argmax(dim=0)"
   ]
  },
  {
   "cell_type": "code",
   "execution_count": null,
   "metadata": {},
   "outputs": [],
   "source": [
    "import torch\n",
    "import torch.nn as nn\n",
    "# 假设有3个类别\n",
    "num_classes = 3\n",
    "\n",
    "# 创建一个交叉熵损失函数\n",
    "criterion = nn.CrossEntropyLoss()\n",
    "\n",
    "# 模拟模型的输出 (batch_size=5, num_classes=3)\n",
    "outputs = torch.tensor([[1,2.,9.]])\n",
    "\n",
    "# 模拟标签 (batch_size=5)\n",
    "labels = torch.tensor([[0,0.,1.]])\n",
    "\n",
    "# 计算损失\n",
    "loss = criterion(outputs, labels)\n",
    "\n",
    "print(f\"损失值: {loss.item()}\")"
   ]
  },
  {
   "cell_type": "code",
   "execution_count": null,
   "metadata": {},
   "outputs": [],
   "source": [
    "import pickle\n",
    "\n",
    "with open(\"../data/ISPD_benchmark/ibm01.hgr\", \"r\") as file:\n",
    "        lines = file.readlines()\n",
    "        \n",
    "lines = [line for line in lines if line.strip() and not line.strip().startswith(\"#\")]\n",
    "edges = [list(map(int, line.split())) for line in lines]\n",
    "edges\n"
   ]
  },
  {
   "cell_type": "code",
   "execution_count": 34,
   "metadata": {},
   "outputs": [],
   "source": [
    "with open(\"../data/ISPD_benchmark/ibm01.hgr\", \"r\") as file:\n",
    "    lines = file.readlines()\n",
    "    lines = [\n",
    "        line for line in lines if line.strip() and not line.strip().startswith(\"#\")\n",
    "    ]\n",
    "    edges = [list(map(int, line.split())) for line in lines]\n",
    "    all_vertices = sorted(set(vertex for edge in edges for vertex in edge))\n",
    "\n",
    "    vertex_mapping = {\n",
    "        old_vertex: new_vertex\n",
    "        for new_vertex, old_vertex in enumerate(all_vertices, start=0)\n",
    "    }\n",
    "    new_edges = [[vertex_mapping[vertex] for vertex in edge] for edge in edges]\n"
   ]
  },
  {
   "cell_type": "code",
   "execution_count": 38,
   "metadata": {},
   "outputs": [
    {
     "data": {
      "text/plain": [
       "12753"
      ]
     },
     "execution_count": 38,
     "metadata": {},
     "output_type": "execute_result"
    }
   ],
   "source": [
    "len(all_vertices)"
   ]
  },
  {
   "cell_type": "code",
   "execution_count": 40,
   "metadata": {},
   "outputs": [
    {
     "name": "stdout",
     "output_type": "stream",
     "text": [
      "文件重写完成。\n"
     ]
    }
   ],
   "source": []
  }
 ],
 "metadata": {
  "kernelspec": {
   "display_name": "Python 3",
   "language": "python",
   "name": "python3"
  },
  "language_info": {
   "codemirror_mode": {
    "name": "ipython",
    "version": 3
   },
   "file_extension": ".py",
   "mimetype": "text/x-python",
   "name": "python",
   "nbconvert_exporter": "python",
   "pygments_lexer": "ipython3",
   "version": "3.10.14"
  }
 },
 "nbformat": 4,
 "nbformat_minor": 2
}
