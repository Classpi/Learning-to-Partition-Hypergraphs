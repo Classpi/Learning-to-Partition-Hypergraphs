{
 "cells": [
  {
   "cell_type": "code",
   "execution_count": 18,
   "metadata": {},
   "outputs": [],
   "source": [
    "import sys\n",
    "sys.path.append(\"../\")  # 添加项目根目录到路径中"
   ]
  },
  {
   "cell_type": "code",
   "execution_count": 19,
   "metadata": {},
   "outputs": [],
   "source": [
    "import torch\n",
    "import dhg\n",
    "import hgp\n",
    "\n",
    "from dhg.data import CocitationPubmed"
   ]
  },
  {
   "cell_type": "code",
   "execution_count": 20,
   "metadata": {},
   "outputs": [],
   "source": [
    "import os\n",
    "import hgp.models\n",
    "from hgp.utils import from_pickle_to_kahypar\n",
    "import pickle as pkl\n",
    "import kahypar as kahypar\n",
    "\n",
    "\n",
    "k=5\n",
    "\n",
    "# G = kahypar.createHypergraphFromFile(\"../data/ISPD_benchmark/ibm01_new.hgr\",3)"
   ]
  },
  {
   "cell_type": "code",
   "execution_count": 21,
   "metadata": {},
   "outputs": [
    {
     "name": "stdout",
     "output_type": "stream",
     "text": [
      "+++++++++++++++++++++++++++++++++++++++++++++++++++++++++++++++++++++++++++++++ \n",
      "+                    _  __     _   _       ____                               + \n",
      "+                   | |/ /__ _| | | |_   _|  _ \\ __ _ _ __                    + \n",
      "+                   | ' // _` | |_| | | | | |_) / _` | '__|                   + \n",
      "+                   | . \\ (_| |  _  | |_| |  __/ (_| | |                      + \n",
      "+                   |_|\\_\\__,_|_| |_|\\__, |_|   \\__,_|_|                      + \n",
      "+                                    |___/                                    + \n",
      "+                 Karlsruhe Hypergraph Partitioning Framework                 + \n",
      "+++++++++++++++++++++++++++++++++++++++++++++++++++++++++++++++++++++++++++++++ \n",
      "*******************************************************************************\n",
      "*                            Partitioning Context                             *\n",
      "*******************************************************************************\n",
      "Partitioning Parameters:\n",
      "  Hypergraph:                         \n",
      "  Partition File:                     \n",
      "  Mode:                               direct\n",
      "  Objective:                          km1\n",
      "  k:                                  5\n",
      "  epsilon:                            0.03\n",
      "  seed:                               -1\n",
      "  # V-cycles:                         0\n",
      "  time limit:                         -1s\n",
      "  hyperedge size ignore threshold:    1000\n",
      "  hyperedge size removal threshold:   50000\n",
      "  use individual block weights:       false\n",
      "  L_opt:                              66\n",
      "  L_max:                              67\n",
      "-------------------------------------------------------------------------------\n",
      "Preprocessing Parameters:\n",
      "  enable deduplication:               false\n",
      "  enable min hash sparsifier:         true\n",
      "  enable community detection:         true\n",
      "-------------------------------------------------------------------------------\n",
      "MinHash Sparsifier Parameters:\n",
      "  max hyperedge size:                 1200\n",
      "  max cluster size:                   10\n",
      "  min cluster size:                   2\n",
      "  number of hash functions:           5\n",
      "  number of combined hash functions:  100\n",
      "  active at median net size >=:       28\n",
      "  sparsifier is active:               false\n",
      "-------------------------------------------------------------------------------\n",
      "Community Detection Parameters:\n",
      "  use community detection in IP:      true\n",
      "  maximum louvain-pass iterations:    100\n",
      "  minimum quality improvement:        0.0001\n",
      "  graph edge weight:                  uniform\n",
      "  reuse community structure:          false\n",
      "  large HE threshold:                 1000\n",
      "-------------------------------------------------------------------------------\n",
      "Coarsening Parameters:\n",
      "  Algorithm:                          ml_style\n",
      "  max-allowed-weight-multiplier:      1\n",
      "  contraction-limit-multiplier:       160\n",
      "  hypernode weight fraction:          0.00125\n",
      "  max. allowed hypernode weight:      1\n",
      "  contraction limit:                  800\n",
      "  Rating Parameters:\n",
      "    Rating Function:                  heavy_edge\n",
      "    Use Community Structure:          true\n",
      "    Heavy Node Penalty:               no_penalty\n",
      "    Acceptance Policy:                best_prefer_unmatched\n",
      "    Partition Policy:                 normal\n",
      "    Fixed Vertex Acceptance Policy:   fixed_vertex_allowed\n",
      "-------------------------------------------------------------------------------\n",
      "Initial Partitioning Parameters:\n",
      "  # IP trials:                        20\n",
      "  Mode:                               recursive\n",
      "  Technique:                          multilevel\n",
      "  Algorithm:                          pool\n",
      "  Bin Packing algorithm:              worst_fit\n",
      "    early restart on infeasible:      true\n",
      "    late restart on infeasible:       true\n",
      "IP Coarsening:                        \n",
      "Coarsening Parameters:\n",
      "  Algorithm:                          ml_style\n",
      "  max-allowed-weight-multiplier:      1\n",
      "  contraction-limit-multiplier:       150\n",
      "  hypernode weight fraction:          determined before IP\n",
      "  max. allowed hypernode weight:      determined before IP\n",
      "  contraction limit:                  determined before IP\n",
      "  Rating Parameters:\n",
      "    Rating Function:                  heavy_edge\n",
      "    Use Community Structure:          true\n",
      "    Heavy Node Penalty:               no_penalty\n",
      "    Acceptance Policy:                best_prefer_unmatched\n",
      "    Partition Policy:                 normal\n",
      "    Fixed Vertex Acceptance Policy:   fixed_vertex_allowed\n",
      "IP Local Search:                      \n",
      "Local Search Parameters:\n",
      "  Algorithm:                          twoway_fm\n",
      "  iterations per level:               2147483647\n",
      "  stopping rule:                      simple\n",
      "  max. # fruitless moves:             50\n",
      "  Flow Refinement Parameters:\n",
      "    execution policy:                 UNDEFINED\n",
      "-------------------------------------------------------------------------------\n",
      "Local Search Parameters:\n",
      "  Algorithm:                          kway_fm_hyperflow_cutter_km1\n",
      "  iterations per level:               2147483647\n",
      "  stopping rule:                      adaptive_opt\n",
      "  adaptive stopping alpha:            1\n",
      "  Flow Refinement Parameters:\n",
      "    execution policy:                 exponential\n",
      "-------------------------------------------------------------------------------\n",
      " \n",
      "******************************************************************************** \n",
      "*                             Partitioning Result                              * \n",
      "******************************************************************************** \n",
      "Objectives: \n",
      "Hyperedge Cut  (minimize) = 1877 \n",
      "SOED           (minimize) = 3774 \n",
      "(k-1)          (minimize) = 1897 \n",
      "Absorption     (maximize) = 6139.5 \n",
      "Imbalance                 = 0.0151515 \n",
      "\n",
      "Partition sizes and weights:  \n",
      "|part 0 | = 65  w( 0 ) = 65 \n",
      "|part 1 | = 67  w( 1 ) = 67 \n",
      "|part 2 | = 66  w( 2 ) = 66 \n",
      "|part 3 | = 67  w( 3 ) = 67 \n",
      "|part 4 | = 62  w( 4 ) = 62 \n",
      "\n",
      "Timings: \n",
      "Partition time                     = 0.548423 s \n",
      "  + Input Validation               = 4.776e-05 s \n",
      "  + Preprocessing                  = 0.00688252 s \n",
      "    | min hash sparsifier          = 0 s \n",
      "    | community detection          = 0.00688252 s \n",
      "  + Coarsening                     = 3.564e-06 s \n",
      "  + Initial Partitioning           = 0.538571 s \n",
      "    + Coarsening                   = 0.000240405 s \n",
      "          | bisection 1 ( 0 , 4 )        = 0.000239872 s \n",
      "          | bisection 2 ( 2 , 4 )        = 2.97e-07 s \n",
      "          | bisection 3 ( 3 , 4 )        = 1.22e-07 s \n",
      "          | bisection 4 ( 0 , 1 )        = 1.14e-07 s \n",
      "    + Initial Partitioning         = 0.517846 s \n",
      "          | bisection 1 ( 0 , 4 )        = 0.168095 s \n",
      "          | bisection 2 ( 2 , 4 )        = 0.149014 s \n",
      "          | bisection 3 ( 3 , 4 )        = 0.116472 s \n",
      "          | bisection 4 ( 0 , 1 )        = 0.0842649 s \n",
      "    + Local Search                 = 0.00263602 s \n",
      "          | bisection 1 ( 0 , 4 )        = 0.00252868 s \n",
      "          | bisection 2 ( 2 , 4 )        = 4.2007e-05 s \n",
      "          | bisection 3 ( 3 , 4 )        = 3.5186e-05 s \n",
      "          | bisection 4 ( 0 , 1 )        = 3.0153e-05 s \n",
      "  + Local Search                   = 0.000188996 s \n",
      "           | flow refinement       = 0  s \n",
      "  + Postprocessing                 = 0 s \n",
      "    | undo sparsifier              = 0 s \n",
      " \n",
      " \n"
     ]
    }
   ],
   "source": [
    "num_nodes, num_nets, e_index, e_list = from_pickle_to_kahypar(\"../data/high/H.pickle\", False)\n",
    "G = kahypar.Hypergraph(num_nodes, num_nets, e_index, e_list, k)\n",
    "context = kahypar.Context()\n",
    "context.loadINIconfiguration(\"/home/ycq/bs-Hyper-Graph/km1_kKaHyPar_sea20.ini\")\n",
    "context.setK(k)\n",
    "context.setEpsilon(0.03)\n",
    "partition = kahypar.partition(G, context)"
   ]
  },
  {
   "cell_type": "code",
   "execution_count": 22,
   "metadata": {},
   "outputs": [],
   "source": [
    "def node_id_iterator(G):\n",
    "    for i in G.nodes():\n",
    "        yield G.blockID(i)"
   ]
  },
  {
   "cell_type": "code",
   "execution_count": 23,
   "metadata": {},
   "outputs": [
    {
     "data": {
      "text/plain": [
       "327"
      ]
     },
     "execution_count": 23,
     "metadata": {},
     "output_type": "execute_result"
    }
   ],
   "source": [
    "len(list(G.nodes()))"
   ]
  },
  {
   "cell_type": "code",
   "execution_count": 24,
   "metadata": {},
   "outputs": [],
   "source": [
    "import torch.nn.functional as F\n",
    "import pickle as pkl\n",
    "x = list(node_id_iterator(G)) #12751\n",
    "x = torch.tensor(x)\n",
    "pkl.dump(x, open(\"../data/pretrain/label_high.pkl\", \"wb\"))"
   ]
  },
  {
   "cell_type": "code",
   "execution_count": 25,
   "metadata": {},
   "outputs": [],
   "source": [
    "x = F.one_hot(x, num_classes=5)\n",
    "x = x.to_sparse()\n",
    "pkl.dump(x, open(\"../data/pretrain/label_high_onehot.pkl\", \"wb\"))"
   ]
  }
 ],
 "metadata": {
  "kernelspec": {
   "display_name": "Python 3",
   "language": "python",
   "name": "python3"
  },
  "language_info": {
   "codemirror_mode": {
    "name": "ipython",
    "version": 3
   },
   "file_extension": ".py",
   "mimetype": "text/x-python",
   "name": "python",
   "nbconvert_exporter": "python",
   "pygments_lexer": "ipython3",
   "version": "3.10.14"
  }
 },
 "nbformat": 4,
 "nbformat_minor": 2
}
